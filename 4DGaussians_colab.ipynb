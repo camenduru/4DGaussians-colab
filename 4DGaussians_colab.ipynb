{
  "cells": [
    {
      "cell_type": "markdown",
      "metadata": {
        "id": "view-in-github"
      },
      "source": [
        "[![Open In Colab](https://colab.research.google.com/assets/colab-badge.svg)](https://colab.research.google.com/github/camenduru/4DGaussians-colab/blob/main/4DGaussians_colab.ipynb)"
      ]
    },
    {
      "cell_type": "code",
      "execution_count": null,
      "metadata": {
        "id": "VjYy0F2gZIPR"
      },
      "outputs": [],
      "source": [
        "%cd /content\n",
        "!git clone -b dev https://github.com/camenduru/4DGaussians\n",
        "!pip install -q https://huggingface.co/camenduru/4DGaussians/resolve/main/wheels/plyfile-1.0.1-py3-none-any.whl\n",
        "!pip install -q https://huggingface.co/camenduru/4DGaussians/resolve/main/wheels/lpips-0.1.4-py3-none-any.whl\n",
        "!pip install -q https://huggingface.co/camenduru/4DGaussians/resolve/main/wheels/argparse-1.4.0-py2.py3-none-any.whl\n",
        "!pip install -q https://github.com/camenduru/wheels/releases/download/colab/mmcv_full-1.7.1-cp310-cp310-linux_x86_64.whl\n",
        "!pip install -q https://github.com/camenduru/diff-gaussian-rasterization/releases/download/v1.0/simple_knn-0.0.0-cp310-cp310-linux_x86_64.1.whl\n",
        "\n",
        "!mkdir /content/test\n",
        "%cd /content/test\n",
        "!wget https://huggingface.co/camenduru/4DGaussians/resolve/main/data/data.zip\n",
        "!unzip data.zip"
      ]
    },
    {
      "cell_type": "code",
      "execution_count": null,
      "metadata": {},
      "outputs": [],
      "source": [
        "%cd /content/4DGaussians\n",
        "!python train.py -s /content/test/data/bouncingballs --port 6017 --expname \"dnerf/bouncingballs\" --configs arguments/dnerf/bouncingballs.py "
      ]
    },
    {
      "cell_type": "code",
      "execution_count": null,
      "metadata": {},
      "outputs": [],
      "source": [
        "%cd /content/4DGaussians\n",
        "!python render.py --model_path \"output/dnerf/bouncingballs/\"  --skip_train --configs arguments/dnerf/bouncingballs.py"
      ]
    }
  ],
  "metadata": {
    "accelerator": "GPU",
    "colab": {
      "gpuType": "T4",
      "provenance": []
    },
    "kernelspec": {
      "display_name": "Python 3",
      "name": "python3"
    },
    "language_info": {
      "name": "python"
    }
  },
  "nbformat": 4,
  "nbformat_minor": 0
}
